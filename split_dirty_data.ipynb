{
 "cells": [
  {
   "cell_type": "code",
   "execution_count": 27,
   "metadata": {},
   "outputs": [],
   "source": [
    "import os\n",
    "import shutil\n",
    "import random\n",
    "import numpy as np\n",
    "\n",
    "root_folder = os.path.abspath('')\n",
    "dirty_folder = os.path.join(root_folder, \"data/dirty\")\n",
    "old_dirty_folder = os.path.join(root_folder, \"old_dirty\")\n",
    "random_old_dirty_folder = os.path.join(root_folder, \"random_old_dirty\")\n",
    "new_dirty_folder = os.path.join(root_folder, \"new_dirty\")"
   ]
  },
  {
   "cell_type": "code",
   "execution_count": 25,
   "metadata": {},
   "outputs": [],
   "source": [
    "for dirty_image in os.listdir(dirty_folder):\n",
    "    if not os.path.isdir(os.path.join(dirty_folder, dirty_image)) and not os.path.exists(os.path.join(old_dirty_folder, dirty_image)):\n",
    "        shutil.copyfile(os.path.join(dirty_folder, dirty_image), os.path.join(new_dirty_folder, dirty_image))"
   ]
  },
  {
   "cell_type": "code",
   "execution_count": 28,
   "metadata": {},
   "outputs": [],
   "source": [
    "file_names = []\n",
    "for dirty_image in os.listdir(old_dirty_folder):\n",
    "    if not os.path.isdir(os.path.join(old_dirty_folder, dirty_image)):\n",
    "        file_names.append(dirty_image)"
   ]
  },
  {
   "cell_type": "code",
   "execution_count": 29,
   "metadata": {},
   "outputs": [],
   "source": [
    "np_file_names = np.array(file_names)\n",
    "random_file_names = np.random.choice(np_file_names, size=500, replace=False)"
   ]
  },
  {
   "cell_type": "code",
   "execution_count": 30,
   "metadata": {},
   "outputs": [],
   "source": [
    "for file_name in random_file_names:\n",
    "    shutil.copyfile(os.path.join(old_dirty_folder, file_name), os.path.join(random_old_dirty_folder, file_name))"
   ]
  },
  {
   "cell_type": "code",
   "execution_count": null,
   "metadata": {},
   "outputs": [],
   "source": [
    "count = 0\n",
    "for dirty_image in os.listdir(old_dirty_folder):\n",
    "    if not os.path.isdir(os.path.join(old_dirty_folder, dirty_image)) and not os.path.exists(os.path.join(dirty_folder, dirty_image)):\n",
    "        shutil.copyfile(os.path.join(old_dirty_folder, dirty_image), os.path.join(root_folder, \"data/unused_resources\"))"
   ]
  }
 ],
 "metadata": {
  "kernelspec": {
   "display_name": "base",
   "language": "python",
   "name": "python3"
  },
  "language_info": {
   "codemirror_mode": {
    "name": "ipython",
    "version": 3
   },
   "file_extension": ".py",
   "mimetype": "text/x-python",
   "name": "python",
   "nbconvert_exporter": "python",
   "pygments_lexer": "ipython3",
   "version": "3.10.9"
  },
  "orig_nbformat": 4
 },
 "nbformat": 4,
 "nbformat_minor": 2
}
